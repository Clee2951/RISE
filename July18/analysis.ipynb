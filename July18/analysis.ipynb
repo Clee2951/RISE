{
 "cells": [
  {
   "cell_type": "markdown",
   "id": "4fd83ae1",
   "metadata": {},
   "source": [
    "# Height Data Analysis with Bootstrap Confidence Interval"
   ]
  },
  {
   "cell_type": "code",
   "execution_count": null,
   "id": "9ce785a5",
   "metadata": {},
   "outputs": [],
   "source": [
    "import pandas as pd\n",
    "import numpy as np\n",
    "import matplotlib.pyplot as plt"
   ]
  },
  {
   "cell_type": "code",
   "execution_count": null,
   "id": "c292d9d0",
   "metadata": {},
   "outputs": [],
   "source": [
    "df = pd.read_csv('height.csv')\n",
    "df.head()"
   ]
  },
  {
   "cell_type": "code",
   "execution_count": null,
   "id": "e91875f8",
   "metadata": {},
   "outputs": [],
   "source": [
    "plt.hist(df['height'], bins=10, edgecolor='black')\n",
    "plt.title('Histogram of Heights')\n",
    "plt.xlabel('Height (inches)')\n",
    "plt.ylabel('Frequency')\n",
    "plt.show()"
   ]
  },
  {
   "cell_type": "code",
   "execution_count": null,
   "id": "9f085496",
   "metadata": {},
   "outputs": [],
   "source": [
    "mean_height = df['height'].mean()\n",
    "print(f'Sample mean height: {mean_height:.2f} inches')"
   ]
  },
  {
   "cell_type": "code",
   "execution_count": null,
   "id": "9236dd43",
   "metadata": {},
   "outputs": [],
   "source": [
    "boot_means = []\n",
    "n = len(df)\n",
    "for _ in range(10000):\n",
    "    sample = df['height'].sample(n, replace=True)\n",
    "    boot_means.append(sample.mean())\n",
    "ci_lower, ci_upper = np.percentile(boot_means, [2.5, 97.5])\n",
    "print(f'95% bootstrap CI: [{ci_lower:.2f}, {ci_upper:.2f}]')"
   ]
  },
  {
   "cell_type": "code",
   "execution_count": null,
   "id": "50ff1446",
   "metadata": {},
   "outputs": [],
   "source": [
    "plt.hist(boot_means, bins=30, edgecolor='gray')\n",
    "plt.axvline(ci_lower, color='red', linestyle='--', label=f'2.5% ({ci_lower:.2f})')\n",
    "plt.axvline(ci_upper, color='red', linestyle='--', label=f'97.5% ({ci_upper:.2f})')\n",
    "plt.title('Bootstrap Distribution of Sample Mean Heights')\n",
    "plt.xlabel('Mean Height (inches)')\n",
    "plt.ylabel('Frequency')\n",
    "plt.legend()\n",
    "plt.show()"
   ]
  }
 ],
 "metadata": {},
 "nbformat": 4,
 "nbformat_minor": 5
}
