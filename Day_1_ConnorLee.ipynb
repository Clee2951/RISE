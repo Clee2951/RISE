{
  "cells": [
    {
      "cell_type": "markdown",
      "metadata": {
        "id": "view-in-github",
        "colab_type": "text"
      },
      "source": [
        "<a href=\"https://colab.research.google.com/github/Clee2951/RISE/blob/main/Day_1_ConnorLee.ipynb\" target=\"_parent\"><img src=\"https://colab.research.google.com/assets/colab-badge.svg\" alt=\"Open In Colab\"/></a>"
      ]
    },
    {
      "cell_type": "markdown",
      "id": "09bf334d",
      "metadata": {
        "id": "09bf334d"
      },
      "source": [
        "# Introduction to Python, Jupyter Notebooks, and GitHub\n",
        "This notebook introduces Python basics and how to work in Jupyter Notebooks.\n",
        "\n",
        "## Learning goals\n",
        "- Understand the Jupyter Notebook interface (code vs. markdown cells, running cells, keyboard shortcuts).\n",
        "- Write and run basic Python code (syntax, variables, data types, control flow).\n",
        "- Document code using Markdown (headings, lists, LaTeX equations).\n",
        "- Get a high-level overview of Git & GitHub for version control.\n",
        "- Complete hands‑on challenges to reinforce each concept, including stretch problems for experienced coders.\n",
        "\n",
        "## Screen Sharing Solutions (Zoom)\n",
        "\n",
        "- Meeting ID: 926 0910 1746\n",
        "- Passcode: 105661"
      ]
    },
    {
      "cell_type": "markdown",
      "id": "976dcc91",
      "metadata": {
        "id": "976dcc91"
      },
      "source": [
        "## 1. Running Your First Python Cell\n",
        "Click in the cell below and press **Shift + Enter** (or the ▶️ button) to execute it."
      ]
    },
    {
      "cell_type": "code",
      "execution_count": 1,
      "id": "5ec233fc",
      "metadata": {
        "id": "5ec233fc",
        "colab": {
          "base_uri": "https://localhost:8080/"
        },
        "outputId": "e9718055-0123-4174-c96d-c1dc906aed8c"
      },
      "outputs": [
        {
          "output_type": "stream",
          "name": "stdout",
          "text": [
            "Hello, world!\n"
          ]
        }
      ],
      "source": [
        "print('Hello, world!')"
      ]
    },
    {
      "cell_type": "markdown",
      "id": "70e7896a",
      "metadata": {
        "id": "70e7896a"
      },
      "source": [
        "## 2. Basic Python Syntax\n",
        "Python uses **indentation** (4 spaces by convention) to define blocks.\n",
        "Comments start with `#`. Anything after `#` on the same line is ignored by Python."
      ]
    },
    {
      "cell_type": "code",
      "execution_count": 2,
      "id": "427a4a7f",
      "metadata": {
        "id": "427a4a7f",
        "colab": {
          "base_uri": "https://localhost:8080/"
        },
        "outputId": "41d3b9f3-ba30-40eb-e144-793fb320e896"
      },
      "outputs": [
        {
          "output_type": "stream",
          "name": "stdout",
          "text": [
            "Iteration 0\n",
            "Iteration 1\n",
            "Iteration 2\n",
            "Iteration 3\n",
            "Iteration 4\n"
          ]
        }
      ],
      "source": [
        "# This is a comment\n",
        "for i in range(5):\n",
        "    print('Iteration', i)"
      ]
    },
    {
      "cell_type": "markdown",
      "id": "e1cc30f3",
      "metadata": {
        "id": "e1cc30f3"
      },
      "source": [
        "### Activity 1 – Debug It!\n",
        "The code below has three syntax/logic errors. Run it, read the traceback, then fix the errors so the loop prints\n",
        "`0 2 4 6 8` on one line."
      ]
    },
    {
      "cell_type": "code",
      "execution_count": 5,
      "id": "48cb3ef9",
      "metadata": {
        "id": "48cb3ef9",
        "colab": {
          "base_uri": "https://localhost:8080/"
        },
        "outputId": "b59bc0bf-3501-469e-b438-56cae646a023"
      },
      "outputs": [
        {
          "output_type": "stream",
          "name": "stdout",
          "text": [
            "0 2 4 6 8 "
          ]
        }
      ],
      "source": [
        "# TODO: Fix the errors so this prints \"0 2 4 6 8\"\n",
        "for i in range(10):\n",
        "  if(i % 2 == 0):\n",
        "    print(i, end=' ')"
      ]
    },
    {
      "cell_type": "markdown",
      "id": "c3e5360c",
      "metadata": {
        "id": "c3e5360c"
      },
      "source": [
        "## 3. Variables & Data Types\n",
        "Python is **dynamically typed** – variable types are inferred at runtime.\n",
        "\n",
        "| Type | Example | Literal |\n",
        "|------|---------|---------|\n",
        "| `int` | whole numbers | `x = 42` |\n",
        "| `float` | decimal numbers | `pi = 3.14159` |\n",
        "| `str` | text | `name = \"Ada\"` |\n",
        "| `bool` | truth values | `is_valid = True` |\n",
        "| `list` | ordered, mutable collection | `scores = [95, 88, 72]` |\n",
        "| `dict` | key‑value pairs | `user = {'id': 1, 'name': 'Sam'}` |\n",
        "\n",
        "Run the cell below to see the types in action."
      ]
    },
    {
      "cell_type": "code",
      "execution_count": 6,
      "id": "0156c27d",
      "metadata": {
        "id": "0156c27d",
        "colab": {
          "base_uri": "https://localhost:8080/"
        },
        "outputId": "87e8e236-77e9-414d-acde-21e117a089e6"
      },
      "outputs": [
        {
          "output_type": "stream",
          "name": "stdout",
          "text": [
            "<class 'int'> <class 'float'> <class 'str'> <class 'bool'> <class 'list'> <class 'dict'>\n"
          ]
        }
      ],
      "source": [
        "x = 42\n",
        "pi = 3.14159\n",
        "name = \"Ada\"\n",
        "is_valid = True\n",
        "scores = [95, 88, 72]\n",
        "user = {'id': 1, 'name': 'Sam'}\n",
        "\n",
        "print(type(x), type(pi), type(name), type(is_valid), type(scores), type(user))"
      ]
    },
    {
      "cell_type": "markdown",
      "id": "57463a85",
      "metadata": {
        "id": "57463a85"
      },
      "source": [
        "### Activity 2 – Type Detective\n",
        "1. Create two new variables:\n",
        "   * `temperature_c` set to `21.5` (float)\n",
        "   * `cities` containing three city names of your choice (list of strings)\n",
        "2. Print a sentence that says \"The temperature is XX °C in CITY.\" using an **f‑string** and the first city in your list.\n",
        "3. Verify the data types with `type()`."
      ]
    },
    {
      "cell_type": "code",
      "execution_count": 75,
      "id": "2ec07dc9",
      "metadata": {
        "id": "2ec07dc9",
        "colab": {
          "base_uri": "https://localhost:8080/"
        },
        "outputId": "9a935245-aa1c-4a12-97ca-f2a87d175946"
      },
      "outputs": [
        {
          "output_type": "stream",
          "name": "stdout",
          "text": [
            "The temperature is 21.5 °C in Los Angeles\n",
            "<class 'float'> <class 'list'>\n"
          ]
        }
      ],
      "source": [
        "# Your code here\n",
        "temperature_c = 21.5\n",
        "cities = ['Los Angeles', 'New York', 'Boston']\n",
        "print(f'The temperature is {temperature_c} °C in {cities[0]}')\n",
        "print(type(temperature_c), type(cities))"
      ]
    },
    {
      "cell_type": "markdown",
      "id": "208b185b",
      "metadata": {
        "id": "208b185b"
      },
      "source": [
        "## 4. Control Flow – `if`, `for`, `while`"
      ]
    },
    {
      "cell_type": "code",
      "execution_count": 9,
      "id": "ca94405d",
      "metadata": {
        "id": "ca94405d",
        "colab": {
          "base_uri": "https://localhost:8080/"
        },
        "outputId": "679183f3-2987-4f98-e7ac-b0f514b61e70"
      },
      "outputs": [
        {
          "output_type": "stream",
          "name": "stdout",
          "text": [
            "7 is odd\n"
          ]
        }
      ],
      "source": [
        "number = 7\n",
        "if number % 2 == 0:\n",
        "    print(number, \"is even\")\n",
        "else:\n",
        "    print(number, \"is odd\")"
      ]
    },
    {
      "cell_type": "markdown",
      "id": "dc82263f",
      "metadata": {
        "id": "dc82263f"
      },
      "source": [
        "### Activity 3 – FizzBuzz Lite\n",
        "Write a loop that prints numbers 1‑20. For multiples of 3 print \"Fizz\", for multiples of 5 print \"Buzz\", and for multiples of both print \"FizzBuzz\"."
      ]
    },
    {
      "cell_type": "code",
      "execution_count": 14,
      "id": "08092ea8",
      "metadata": {
        "id": "08092ea8",
        "colab": {
          "base_uri": "https://localhost:8080/"
        },
        "outputId": "9a6c71a0-8fe2-48f7-8689-97bc62f7c91b"
      },
      "outputs": [
        {
          "output_type": "stream",
          "name": "stdout",
          "text": [
            "1\n",
            "2\n",
            "3\n",
            "Fizz\n",
            "4\n",
            "5\n",
            "Buzz\n",
            "6\n",
            "Fizz\n",
            "7\n",
            "8\n",
            "9\n",
            "Fizz\n",
            "10\n",
            "Buzz\n",
            "11\n",
            "12\n",
            "Fizz\n",
            "13\n",
            "14\n",
            "15\n",
            "FizzBuzz\n",
            "16\n",
            "17\n",
            "18\n",
            "Fizz\n",
            "19\n",
            "20\n",
            "Buzz\n"
          ]
        }
      ],
      "source": [
        "# Your code here\n",
        "for i in range(1, 21):\n",
        "  print(i)\n",
        "  if i % 3 == 0 and i % 5 ==0:\n",
        "    print('FizzBuzz')\n",
        "  elif i % 3 == 0:\n",
        "    print('Fizz')\n",
        "  elif i % 5 == 0:\n",
        "    print('Buzz')"
      ]
    },
    {
      "cell_type": "markdown",
      "id": "2a9b92b6",
      "metadata": {
        "id": "2a9b92b6"
      },
      "source": [
        "## 5. Writing Functions\n",
        "Functions bundle reusable logic."
      ]
    },
    {
      "cell_type": "code",
      "execution_count": null,
      "id": "cbf6f817",
      "metadata": {
        "id": "cbf6f817"
      },
      "outputs": [],
      "source": [
        "def greet(name):\n",
        "    \"\"\"Return a friendly greeting\"\"\"\n",
        "    return f\"Hello, {name}!\"\n",
        "\n",
        "print(greet('Data Scientist'))"
      ]
    },
    {
      "cell_type": "markdown",
      "id": "ad7cc8b8",
      "metadata": {
        "id": "ad7cc8b8"
      },
      "source": [
        "### Activity 4 – Fibonacci Function\n",
        "Implement `fib(n)` that returns the n‑th Fibonacci number (`fib(0)=0`, `fib(1)=1`). Test that `fib(10)` is 55."
      ]
    },
    {
      "cell_type": "code",
      "execution_count": 17,
      "id": "be2e43b9",
      "metadata": {
        "id": "be2e43b9",
        "colab": {
          "base_uri": "https://localhost:8080/"
        },
        "outputId": "a72a23a0-c3f5-4ff6-a24d-908904f85765"
      },
      "outputs": [
        {
          "output_type": "stream",
          "name": "stdout",
          "text": [
            "55\n"
          ]
        }
      ],
      "source": [
        "# Your code here\n",
        "def fib(n):\n",
        "  if n == 0:\n",
        "    return 0\n",
        "  if n == 1:\n",
        "    return 1\n",
        "  else:\n",
        "    return fib(n-1) + fib(n-2)\n",
        "print(fib(10))\n"
      ]
    },
    {
      "cell_type": "markdown",
      "id": "dfcbf6cb",
      "metadata": {
        "id": "dfcbf6cb"
      },
      "source": [
        "## 6. Importing Libraries"
      ]
    },
    {
      "cell_type": "code",
      "execution_count": 18,
      "id": "db261143",
      "metadata": {
        "id": "db261143",
        "colab": {
          "base_uri": "https://localhost:8080/",
          "height": 452
        },
        "outputId": "01075dfb-54b8-4d75-dca9-ad99373f81d4"
      },
      "outputs": [
        {
          "output_type": "display_data",
          "data": {
            "text/plain": [
              "<Figure size 640x480 with 1 Axes>"
            ],
            "image/png": "[encoded data removed]"
          },
          "metadata": {}
        }
      ],
      "source": [
        "import math\n",
        "import random\n",
        "import numpy as np\n",
        "import matplotlib.pyplot as plt\n",
        "\n",
        "samples = np.random.randn(1000)\n",
        "plt.hist(samples, bins=30)\n",
        "plt.title('Histogram of Normal Samples')\n",
        "plt.show()"
      ]
    },
    {
      "cell_type": "markdown",
      "id": "4a5d0c12",
      "metadata": {
        "id": "4a5d0c12"
      },
      "source": [
        "### Activity 5 – Dice Simulation\n",
        "Simulate rolling two six‑sided dice 10 000 times with `numpy.random.randint`. Plot a histogram of the sums."
      ]
    },
    {
      "cell_type": "code",
      "execution_count": 84,
      "id": "6adaed3d",
      "metadata": {
        "id": "6adaed3d",
        "colab": {
          "base_uri": "https://localhost:8080/",
          "height": 452
        },
        "outputId": "bbb2eaf3-884c-44e0-bc50-11ba02434eae"
      },
      "outputs": [
        {
          "output_type": "display_data",
          "data": {
            "text/plain": [
              "<Figure size 640x480 with 1 Axes>"
            ],
            "image/png": "[encoded data removed]"
          },
          "metadata": {}
        }
      ],
      "source": [
        "# Your code here\n",
        "import math\n",
        "import random\n",
        "import numpy as np\n",
        "import matplotlib.pyplot as plot\n",
        "\n",
        "samples = np.random.randint(1, 7, 10000) + np.random.randint(1, 7, 10000)\n",
        "plt.hist(samples, bins = 11)\n",
        "plt.title('Histogram of Sums')\n",
        "plt.show()\n"
      ]
    },
    {
      "cell_type": "markdown",
      "id": "bc223ffc",
      "metadata": {
        "id": "bc223ffc"
      },
      "source": [
        "## 7. Markdown Tips\n",
        "Use Markdown cells to explain your work:\n",
        "- `#` to `######` for headings\n",
        "- `**bold**` or `*italics*`\n",
        "- LaTeX math: `$E = mc^2$`\n",
        "\n",
        "Add a Markdown cell below explaining, in your own words, what a function is and why it’s useful."
      ]
    },
    {
      "cell_type": "code",
      "execution_count": 73,
      "id": "13146364",
      "metadata": {
        "id": "13146364"
      },
      "outputs": [],
      "source": [
        "# (Add a Markdown cell below instead of editing here)\n"
      ]
    },
    {
      "cell_type": "markdown",
      "source": [
        "####Functions\n",
        "**Functions** are useful for groups of code that you will use multiple times."
      ],
      "metadata": {
        "id": "ZTzX2nUl6FbS"
      },
      "id": "ZTzX2nUl6FbS"
    },
    {
      "cell_type": "markdown",
      "id": "af2228ad",
      "metadata": {
        "id": "af2228ad"
      },
      "source": [
        "## 8. Version Control with Git & GitHub\n",
        "### Why version control?\n",
        "- Tracks changes to your code over time, like \"Track Changes\" in a document.\n",
        "- Enables collaboration without overwriting each other's work.\n",
        "- Provides an off‑site backup.\n",
        "\n",
        "We will use **GitHub Classroom** occasionally to provide each student with a private repository or will walk you through steps to create a repo for an assignment."
      ]
    },
    {
      "cell_type": "markdown",
      "source": [
        "Sign up for GitHub if you have not already (or create a new one if you would like a new account) and share it in the following Google Form: [Link](https://docs.google.com/forms/d/e/1FAIpQLSdDg85PuiLlqXGdqvoHoIwsi0IgcHkgCp8JsvI-Fkq25y4TMQ/viewform?usp=dialog)"
      ],
      "metadata": {
        "id": "PVW9IAa32Fnx"
      },
      "id": "PVW9IAa32Fnx"
    },
    {
      "cell_type": "markdown",
      "source": [
        "TODO: Create a new public repository on GitHub and clone it in below:\n",
        "\n",
        "Code:\n",
        "\n",
        "!git clone https://github.com/example/repository.git.\n"
      ],
      "metadata": {
        "id": "aT68I8YsDFul"
      },
      "id": "aT68I8YsDFul"
    },
    {
      "cell_type": "code",
      "source": [
        "!git clone https://github.com/Clee2951/RISE.git"
      ],
      "metadata": {
        "colab": {
          "base_uri": "https://localhost:8080/"
        },
        "id": "RnkqTUVHWBxa",
        "outputId": "6bba4831-08e3-4f3c-e657-9a20a81e5ca3"
      },
      "id": "RnkqTUVHWBxa",
      "execution_count": 87,
      "outputs": [
        {
          "output_type": "stream",
          "name": "stdout",
          "text": [
            "Cloning into 'RISE'...\n",
            "remote: Enumerating objects: 3, done.\u001b[K\n",
            "remote: Counting objects: 100% (3/3), done.\u001b[K\n",
            "remote: Total 3 (delta 0), reused 0 (delta 0), pack-reused 0 (from 0)\u001b[K\n",
            "Receiving objects: 100% (3/3), done.\n"
          ]
        }
      ]
    },
    {
      "cell_type": "markdown",
      "id": "08304588",
      "metadata": {
        "id": "08304588"
      },
      "source": [
        "## Advanced Challenge Exercises\n",
        "These are optional stretch problems for students with prior coding experience.\n",
        "\n",
        "1. **List Comprehension Speed‑Up**  \n",
        "   Generate the squares of all integers from 1 to 100 000. Compare the runtime of a traditional `for` loop vs. a list comprehension using `timeit`. Plot the timing results. Further reading: https://www.geeksforgeeks.org/python/python-list-comprehension/\n",
        "\n",
        "2. **Dictionary Comprehension Puzzle**  \n",
        "   Create a dictionary that maps each lowercase letter `a‑z` to its numerical position in the alphabet **without** typing the alphabet explicitly (i.e., A is position 0, B is position 1). Further reading: https://www.geeksforgeeks.org/python/python-dictionary/\n",
        "\n",
        "3. **NumPy Broadcasting Art**  \n",
        "   Use NumPy broadcasting to create a 2‑D array that represents a grayscale image of concentric circles (hint: compute distance from the center). Display it with `plt.imshow()`.\n",
        "\n",
        "4. **Prime Checker Function**  \n",
        "   Implement `is_prime(n)` efficiently for `n ≤ 10^6`. Test it on the following primes: 2, 3, 5, 7, 9973\n",
        "\n",
        "Choose any you like and work below."
      ]
    },
    {
      "cell_type": "code",
      "execution_count": 86,
      "id": "1a8b4b7f",
      "metadata": {
        "id": "1a8b4b7f",
        "colab": {
          "base_uri": "https://localhost:8080/"
        },
        "outputId": "948ee002-062e-4e6a-f697-2f6989e3cda0"
      },
      "outputs": [
        {
          "output_type": "stream",
          "name": "stdout",
          "text": [
            "aa\n"
          ]
        }
      ],
      "source": [
        "# Start your advanced solutions here\n"
      ]
    }
  ],
  "metadata": {
    "colab": {
      "provenance": [],
      "include_colab_link": true
    },
    "language_info": {
      "name": "python"
    },
    "kernelspec": {
      "name": "python3",
      "display_name": "Python 3"
    }
  },
  "nbformat": 4,
  "nbformat_minor": 5
}