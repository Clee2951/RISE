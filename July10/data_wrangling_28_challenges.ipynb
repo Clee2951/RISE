{
 "cells": [
  {
   "cell_type": "markdown",
   "id": "9f8a2e6f",
   "metadata": {},
   "source": [
    "# Data Wrangling Practice\n",
    "\n",
    "Each challenge below simulates **its own tiny data set** and asks you to perform one essential data-wrangling task in `pandas`.  \n",
    "For every question:\n",
    "\n",
    "1. **Run the first code cell** to generate the data frame `df`.  \n",
    "2. Add your own code cell(s) to solve the task.  \n",
    "3. If you’re stuck, expand the **Instructor solution** to reveal one possible answer.\n",
    "\n",
    "\n",
    "Turn this notebook in on blackboard. You can just complete this in Google Colab.\n"
   ]
  },
  {
   "cell_type": "code",
   "execution_count": null,
   "id": "4be8f3a5",
   "metadata": {},
   "outputs": [],
   "source": [
    "import numpy as np, pandas as pd, re\n",
    "from datetime import datetime\n",
    "rng_global = np.random.default_rng(30)  \n"
   ]
  },
  {
   "cell_type": "markdown",
   "id": "ef44531e",
   "metadata": {},
   "source": [
    "## Question 01 — Inspect Data Structure\n",
    "\n",
    "Use `df.head()`, `df.info()` and `df.describe()` to quickly understand its shape, data types and basic statistics."
   ]
  },
  {
   "cell_type": "code",
   "execution_count": null,
   "id": "51694d1e",
   "metadata": {},
   "outputs": [],
   "source": [
    "# --- Generate synthetic data for Question 1 ---\n",
    "rng = np.random.default_rng(41)\n",
    "\n",
    "df = pd.DataFrame({\n",
    "    'age': rng.integers(18, 60, size=15),\n",
    "    'height_cm': rng.normal(170, 10, size=15).round(1),\n",
    "    'city': rng.choice(['NY', 'LA', 'CHI'], size=15)\n",
    "})\n"
   ]
  },
  {
   "cell_type": "markdown",
   "id": "a38708e3",
   "metadata": {},
   "source": [
    "#### Why would you want to inspect your data in this way? "
   ]
  },
  {
   "cell_type": "markdown",
   "id": "8ddf3e3f",
   "metadata": {},
   "source": []
  },
  {
   "cell_type": "markdown",
   "id": "6cd9a7a6",
   "metadata": {},
   "source": [
    "<details>\n",
    "<summary><strong>Instructor solution (click to reveal)</strong></summary>\n",
    "\n",
    "```python\n",
    "\n",
    "print(df.head())\n",
    "df.info()\n",
    "df.describe()\n",
    "\n",
    "```\n",
    "</details>\n"
   ]
  },
  {
   "cell_type": "markdown",
   "id": "b3f7c7fc",
   "metadata": {},
   "source": [
    "## Question 02 — Handle Missing Values\n",
    "\n",
    "Count how many entries in column **`income`** are missing and then fill them with the column median."
   ]
  },
  {
   "cell_type": "code",
   "execution_count": null,
   "id": "dbcaef1a",
   "metadata": {},
   "outputs": [],
   "source": [
    "# --- Generate synthetic data for Question 2 ---\n",
    "rng = np.random.default_rng(42)\n",
    "\n",
    "df = pd.DataFrame({\n",
    "    'id': range(1, 21),\n",
    "    'age': rng.integers(18, 65, size=20),\n",
    "    'income': rng.normal(60000, 15000, size=20).round(2)\n",
    "})\n",
    "# inject missing\n",
    "miss = rng.choice(df.index, size=5, replace=False)\n",
    "df.loc[miss, 'income'] = np.nan\n",
    "\n",
    "df\n",
    "\n"
   ]
  },
  {
   "cell_type": "markdown",
   "id": "fc63184b",
   "metadata": {},
   "source": [
    "#### List a pro and a con of filling in missing values with the median"
   ]
  },
  {
   "cell_type": "markdown",
   "id": "a9406f1a",
   "metadata": {},
   "source": []
  },
  {
   "cell_type": "markdown",
   "id": "979771f2",
   "metadata": {},
   "source": [
    "<details>\n",
    "<summary><strong>Instructor solution (click to reveal)</strong></summary>\n",
    "\n",
    "```python\n",
    "\n",
    "missing = df['income'].isna().sum()\n",
    "print('Missing:', missing)\n",
    "median_inc = df['income'].median()\n",
    "df['income'].fillna(median_inc, inplace=True)\n",
    "\n",
    "```\n",
    "</details>\n"
   ]
  },
  {
   "cell_type": "markdown",
   "id": "cc9a0308",
   "metadata": {},
   "source": [
    "## Question 03 — Convert String Numbers → Numeric\n",
    "\n",
    "You can find predictable characters, and remove them relatively easily. Here is an example. "
   ]
  },
  {
   "cell_type": "code",
   "execution_count": null,
   "id": "083c90fc",
   "metadata": {},
   "outputs": [],
   "source": [
    "df = pd.DataFrame({\n",
    "    'code': ['AB-123', 'CD-456', 'EF-789', 'GH-000']\n",
    "})\n",
    "print(\"Before:\")\n",
    "print(df)\n",
    "\n",
    "## EXAMPLE:\n",
    "df['code'] = df['code'].str.replace('-', '', regex=True)\n",
    "\n",
    "print(\"\\nAfter:\")\n",
    "print(df)"
   ]
  },
  {
   "cell_type": "markdown",
   "id": "76ed2cc5",
   "metadata": {},
   "source": [
    "Now, `salary` is stored as strings like '`$45,000`'. Convert it to a numeric column **in dollars** (45000)."
   ]
  },
  {
   "cell_type": "code",
   "execution_count": null,
   "id": "8c82bfb8",
   "metadata": {},
   "outputs": [],
   "source": [
    "# --- Generate synthetic data for Question 3 ---\n",
    "rng = np.random.default_rng(43)\n",
    "\n",
    "def fmt(x): return f\"${x:,.0f}\"\n",
    "df = pd.DataFrame({\n",
    "    'name': [f'Emp{i}' for i in range(8)],\n",
    "    'salary': [fmt(s) for s in rng.integers(30000, 90000, size=8)]\n",
    "})\n",
    "\n",
    "df\n",
    "\n"
   ]
  },
  {
   "cell_type": "markdown",
   "id": "1c551fc5",
   "metadata": {},
   "source": [
    "#### In the df.str.replace function, there is an argument called \"regex.\" Please state what that is/means and when you would want it to be true or false."
   ]
  },
  {
   "cell_type": "markdown",
   "id": "bc3376fa",
   "metadata": {},
   "source": []
  },
  {
   "cell_type": "markdown",
   "id": "77787163",
   "metadata": {},
   "source": [
    "<details>\n",
    "<summary><strong>Instructor solution (click to reveal)</strong></summary>\n",
    "\n",
    "```python\n",
    "\n",
    "df['salary'] = (\n",
    "    df['salary']\n",
    "      .str.replace('[$,]', '', regex=True)\n",
    "      .astype(float)\n",
    ")\n",
    "\n",
    "```\n",
    "</details>\n"
   ]
  },
  {
   "cell_type": "markdown",
   "id": "ed9a4d8c",
   "metadata": {},
   "source": [
    "## Question 04 — Parse Dates & Extract Month\n",
    "\n",
    "Column `date_str` is text. Convert it to datetime and create a new column `month` (YYYY-MM). Try to solve this one through defining the problem clearly to yourself and then searching for functions in pandas that will get you to the outcome (there are many solutions)"
   ]
  },
  {
   "cell_type": "code",
   "execution_count": null,
   "id": "edd84765",
   "metadata": {},
   "outputs": [],
   "source": [
    "# --- Generate synthetic data for Question 4 ---\n",
    "rng = np.random.default_rng(44)\n",
    "\n",
    "dates = pd.date_range('2024-01-01', periods=20, freq='7D')\n",
    "rng.shuffle(dates.values)\n",
    "df = pd.DataFrame({'date_str': dates.astype(str)})\n",
    "\n",
    "df.head()"
   ]
  },
  {
   "cell_type": "markdown",
   "id": "938ae371",
   "metadata": {},
   "source": [
    "#### Try to find another way to solve this problem without using series properties or pandas functions"
   ]
  },
  {
   "cell_type": "code",
   "execution_count": null,
   "id": "b26904cb",
   "metadata": {},
   "outputs": [],
   "source": []
  },
  {
   "cell_type": "markdown",
   "id": "19354923",
   "metadata": {},
   "source": [
    "<details>\n",
    "<summary><strong>Instructor solution (click to reveal)</strong></summary>\n",
    "\n",
    "```python\n",
    "\n",
    "df['date'] = pd.to_datetime(df['date_str'])\n",
    "df['month'] = df['date'].dt.to_period('M')\n",
    "\n",
    "```\n",
    "</details>\n"
   ]
  },
  {
   "cell_type": "markdown",
   "id": "c8679309",
   "metadata": {},
   "source": [
    "## Question 05 — Remove Duplicate Rows\n",
    "\n",
    "In a live system, customers can update their profile multiple times. Your DataFrame `df` records **every** profile save, with:\n",
    "\n",
    "- `customer_id` (int)  \n",
    "- `name` (string)  \n",
    "- `updated_at` (datetime)  \n",
    "\n",
    "Because you only ever need each customer’s **most recent** profile, drop older entries and **keep the row with the latest** `updated_at` for each `customer_id`."
   ]
  },
  {
   "cell_type": "code",
   "execution_count": null,
   "id": "83a1f173",
   "metadata": {},
   "outputs": [],
   "source": [
    "# --- Generate synthetic data for Question 05 ---\n",
    "rng = np.random.default_rng(45)\n",
    "ids        = list(range(1, 11)) * 2\n",
    "timestamps = (pd.to_datetime('2025-06-01') \n",
    "              + pd.to_timedelta(rng.integers(0, 30, size=20), unit='D'))\n",
    "\n",
    "# Assign \"Names\" vs. “updated” names\n",
    "occ    = {}\n",
    "names  = []\n",
    "for uid in ids:\n",
    "    occ[uid] = occ.get(uid, 0) + 1\n",
    "    if occ[uid] == 1:\n",
    "        names.append(f\"Customer{uid}\")\n",
    "    else:\n",
    "        names.append(f\"Customer{uid}_updated\")\n",
    "\n",
    "df = pd.DataFrame({\n",
    "    'customer_id': ids,\n",
    "    'name':         names,\n",
    "    'updated_at':   timestamps\n",
    "})\n",
    "df = df.sort_values('updated_at').reset_index(drop=True)\n",
    "df.head()\n",
    "\n"
   ]
  },
  {
   "cell_type": "markdown",
   "id": "fd98737d",
   "metadata": {},
   "source": [
    "<details>\n",
    "<summary><strong>Instructor solution (click to reveal)</strong></summary>\n",
    "\n",
    "```python\n",
    "df_latest = (df.drop_duplicates(subset=['customer_id'], keep='last'))\n",
    "df_latest\n",
    "```\n",
    "</details>"
   ]
  },
  {
   "cell_type": "markdown",
   "id": "63353582",
   "metadata": {},
   "source": [
    "## Question 06 — Filter Rows by Condition\n",
    "\n",
    "You want to analyze data from students who passed the class and had a score greater than 70%. Write a command to do that. Filter rows where `score > 70` **and** `passed == True`."
   ]
  },
  {
   "cell_type": "code",
   "execution_count": null,
   "id": "7d2471ca",
   "metadata": {},
   "outputs": [],
   "source": [
    "# --- Generate synthetic data for Question 6 ---\n",
    "rng = np.random.default_rng(46)\n",
    "\n",
    "df = pd.DataFrame({\n",
    "    'student': [f'S{i}' for i in range(15)],\n",
    "    'score': rng.integers(40, 100, size=15)\n",
    "})\n",
    "df['passed'] = df['score'] >= 60\n",
    "\n",
    "df.head()\n"
   ]
  },
  {
   "cell_type": "markdown",
   "id": "235a986c",
   "metadata": {},
   "source": [
    "<details>\n",
    "<summary><strong>Instructor solution (click to reveal)</strong></summary>\n",
    "\n",
    "```python\n",
    "\n",
    "filtered = df[(df['score'] > 70) & (df['passed'])]\n",
    "\n",
    "```\n",
    "</details>\n"
   ]
  },
  {
   "cell_type": "markdown",
   "id": "40ed89b8",
   "metadata": {},
   "source": [
    "## Question 07 — Subset Columns with `.loc`\n",
    "\n",
    "Create a new DataFrame containing only `student` and `score` columns."
   ]
  },
  {
   "cell_type": "code",
   "execution_count": null,
   "id": "5b78419e",
   "metadata": {},
   "outputs": [],
   "source": [
    "# --- Generate synthetic data for Question 7 ---\n",
    "rng = np.random.default_rng(47)\n",
    "\n",
    "df = pd.DataFrame({\n",
    "    'student': [f'S{i}' for i in range(8)],\n",
    "    'score': rng.integers(50, 100, size=8),\n",
    "    'age': rng.integers(14, 18, size=8)\n",
    "})\n",
    "\n",
    "df.head()"
   ]
  },
  {
   "cell_type": "markdown",
   "id": "e1ade3f3",
   "metadata": {},
   "source": [
    "<details>\n",
    "<summary><strong>Instructor solution (click to reveal)</strong></summary>\n",
    "\n",
    "```python\n",
    "\n",
    "sub = df.loc[:, ['student', 'score']]\n",
    "\n",
    "```\n",
    "</details>\n"
   ]
  },
  {
   "cell_type": "markdown",
   "id": "1ff59547",
   "metadata": {},
   "source": [
    "## Question 08 — Group & Aggregate\n",
    "\n",
    "Compute the **mean score per class**, then add a new column `class_mean` to `df` so that each student’s row shows the average score for their respective class.\n"
   ]
  },
  {
   "cell_type": "code",
   "execution_count": null,
   "id": "b3d5ee78",
   "metadata": {},
   "outputs": [],
   "source": [
    "# --- Generate synthetic data for Question 8 ---\n",
    "rng = np.random.default_rng(48)\n",
    "\n",
    "df = pd.DataFrame({\n",
    "    'student': [f'S{i}' for i in range(30)],\n",
    "    'class':   rng.choice(['A','B','C'], size=30),\n",
    "    'score':   rng.integers(50, 100, size=30)\n",
    "})\n",
    "\n",
    "df.head()\n"
   ]
  },
  {
   "cell_type": "markdown",
   "id": "b1b6d11e",
   "metadata": {},
   "source": [
    "<details>\n",
    "<summary><strong>Instructor solution (click to reveal)</strong></summary>\n",
    "\n",
    "```python\n",
    "# Just the mean part\n",
    "group_mean = df.groupby('class')['score'].mean()\n",
    "# Annotating each row\n",
    "df['class_mean'] = df.groupby('class')['score'].transform('mean')\n",
    "\n",
    "df.head()\n",
    "```\n",
    "</details>\n"
   ]
  },
  {
   "cell_type": "markdown",
   "id": "6e0251e8",
   "metadata": {},
   "source": [
    "## Question 09 — Merge / Join Two Tables\n",
    "\n",
    "Merge orders with a **`product`** lookup to bring in the `category` column. (i.e., your final data frame should be \"order_id\", \"product_id\", \"qty\", and \"category\")"
   ]
  },
  {
   "cell_type": "code",
   "execution_count": null,
   "id": "0ea4b6d8",
   "metadata": {},
   "outputs": [],
   "source": [
    "# --- Generate synthetic data for Question 9 ---\n",
    "rng = np.random.default_rng(49)\n",
    "\n",
    "orders = pd.DataFrame({\n",
    "    'order_id': range(1,11),\n",
    "    'product_id': rng.integers(1,6,size=10),\n",
    "    'qty': rng.integers(1,5,size=10)\n",
    "})\n",
    "products = pd.DataFrame({\n",
    "    'product_id': range(1,6),\n",
    "    'category': ['Electronics','Clothing','Sport','Home','Toys']\n",
    "})\n",
    "\n",
    "\n",
    "df.head()\n",
    "\n"
   ]
  },
  {
   "cell_type": "markdown",
   "id": "db72ad9f",
   "metadata": {},
   "source": [
    "<details>\n",
    "<summary><strong>Instructor solution (click to reveal)</strong></summary>\n",
    "\n",
    "```python\n",
    "\n",
    "merged = orders.merge(products, on='product_id', how='left')\n",
    "\n",
    "```\n",
    "</details>\n"
   ]
  },
  {
   "cell_type": "markdown",
   "id": "57debc34",
   "metadata": {},
   "source": [
    "## Question 10 — Concatenate DataFrames\n",
    "\n",
    "Combine `df1` and `df2` **vertically** (row wise) and reset the index. (Basically df1 goes on top of df2 and then you want to ignore (hint, hint) on the argument to use) the original indexing)"
   ]
  },
  {
   "cell_type": "code",
   "execution_count": null,
   "id": "66073c42",
   "metadata": {},
   "outputs": [],
   "source": [
    "# --- Generate synthetic data for Question 10 ---\n",
    "rng = np.random.default_rng(50)\n",
    "\n",
    "df1 = pd.DataFrame({'id': range(1,6), 'val': rng.integers(0,50,size=5)})\n",
    "df2 = pd.DataFrame({'id': range(6,11), 'val': rng.integers(0,50,size=5)})\n",
    "\n",
    "df.head()\n"
   ]
  },
  {
   "cell_type": "markdown",
   "id": "13beef69",
   "metadata": {},
   "source": [
    "<details>\n",
    "<summary><strong>Instructor solution (click to reveal)</strong></summary>\n",
    "\n",
    "```python\n",
    "\n",
    "combined = pd.concat([df1, df2], ignore_index=True)\n",
    "\n",
    "```\n",
    "</details>\n"
   ]
  },
  {
   "cell_type": "markdown",
   "id": "2bafae68",
   "metadata": {},
   "source": [
    "## Question 11 — Pivot Wider\n",
    "\n",
    "A **pivot table** is a way to **summarize** your data by computing an aggregate (e.g. sum, mean) for each combination of one categorical variable for rows and another for columns. When you “pivot wider,” you turn one of your categories into new columns, converting a long-form table into a wide-form one.\n",
    "\n",
    "**Your Task**\n",
    "\n",
    "- Use `class` as the **row index**.\n",
    "- Spread `gender` into **column headers**.\n",
    "- Compute the **mean** of `score` for each (`class`,`gender`) pair.\n",
    "\n",
    "\n",
    "Basically, your table should look like the following where , denotes a column change: \n",
    "- row 1: gender, F , M\n",
    "- row 2: class , ,\n",
    "- row 3: A,  75.62,  81.5 \n",
    "...\n"
   ]
  },
  {
   "cell_type": "code",
   "execution_count": null,
   "id": "042a87bc",
   "metadata": {},
   "outputs": [],
   "source": [
    "# --- Generate synthetic data for Question 11 ---\n",
    "rng = np.random.default_rng(51)\n",
    "\n",
    "df = pd.DataFrame({\n",
    "    'student': [f'S{i}' for i in range(40)],\n",
    "    'class':   rng.choice(list('ABC'), size=40),\n",
    "    'gender':  rng.choice(['F','M'], size=40),\n",
    "    'score':   rng.integers(50, 100, size=40)\n",
    "})\n",
    "\n",
    "df.head()\n",
    "\n"
   ]
  },
  {
   "cell_type": "markdown",
   "id": "a8b02a84",
   "metadata": {},
   "source": [
    "<details>\n",
    "<summary><strong>Instructor solution (click to reveal)</strong></summary>\n",
    "\n",
    "```python\n",
    "\n",
    "pivot = df.pivot_table(index='class', columns='gender', values='score', aggfunc='mean')\n",
    "\n",
    "```\n",
    "</details>\n"
   ]
  },
  {
   "cell_type": "markdown",
   "id": "62e32236",
   "metadata": {},
   "source": [
    "## Question 12 — Melt (Long → Tidy)\n",
    "\n",
    "Transform wide table with `Q1`…`Q4` sales columns into long format with `quarter` & `sales`. A \"Long\" format table in this case would have the following column names where each column is separated by a , :\n",
    "- year , quarter , sales"
   ]
  },
  {
   "cell_type": "code",
   "execution_count": null,
   "id": "1234b027",
   "metadata": {},
   "outputs": [],
   "source": [
    "# --- Generate synthetic data for Question 12 ---\n",
    "rng = np.random.default_rng(52)\n",
    "\n",
    "df = pd.DataFrame({\n",
    "    'year': [2023, 2024],\n",
    "    'Q1': rng.integers(200,400,size=2),\n",
    "    'Q2': rng.integers(200,400,size=2),\n",
    "    'Q3': rng.integers(200,400,size=2),\n",
    "    'Q4': rng.integers(200,400,size=2)\n",
    "})\n",
    "\n",
    "df.head()\n",
    "\n"
   ]
  },
  {
   "cell_type": "markdown",
   "id": "90662111",
   "metadata": {},
   "source": [
    "<details>\n",
    "<summary><strong>Instructor solution (click to reveal)</strong></summary>\n",
    "\n",
    "```python\n",
    "\n",
    "tidy = df.melt(id_vars='year', value_vars=['Q1','Q2','Q3','Q4'],\n",
    "               var_name='quarter', value_name='sales')\n",
    "\n",
    "```\n",
    "</details>\n"
   ]
  },
  {
   "cell_type": "markdown",
   "id": "80d2f204",
   "metadata": {},
   "source": [
    "## Question 13 — Detect Outliers with IQR\n",
    "\n",
    "Identify rows in `df` where `value` lies outside 1.5×IQR of the values. Print out all the outlier values. "
   ]
  },
  {
   "cell_type": "code",
   "execution_count": null,
   "id": "89d6751d",
   "metadata": {},
   "outputs": [],
   "source": [
    "# --- Generate synthetic data for Question 13 ---\n",
    "rng = np.random.default_rng(53)\n",
    "\n",
    "df = pd.DataFrame({'value': rng.normal(0,1,size=100)})\n",
    "# inject a few outliers\n",
    "df.loc[rng.choice(df.index,size=4,replace=False),'value'] = rng.normal(8,0.5,size=4)\n",
    "\n",
    "df.head()\n"
   ]
  },
  {
   "cell_type": "markdown",
   "id": "ab2d25a5",
   "metadata": {},
   "source": [
    "#### How do you calculate the IQR? "
   ]
  },
  {
   "cell_type": "markdown",
   "id": "fbc5b7c0",
   "metadata": {},
   "source": []
  },
  {
   "cell_type": "markdown",
   "id": "2e6ada03",
   "metadata": {},
   "source": [
    "#### Why would we use that over the standard deviation? "
   ]
  },
  {
   "cell_type": "markdown",
   "id": "82a8fd9b",
   "metadata": {},
   "source": []
  },
  {
   "cell_type": "markdown",
   "id": "f861c92e",
   "metadata": {},
   "source": [
    "#### The mean is easier to calculate, can I mix the the IQR with the mean? Why or why not?"
   ]
  },
  {
   "cell_type": "markdown",
   "id": "458b99b2",
   "metadata": {},
   "source": []
  },
  {
   "cell_type": "markdown",
   "id": "cc8ef10e",
   "metadata": {},
   "source": [
    "<details>\n",
    "<summary><strong>Instructor solution (click to reveal)</strong></summary>\n",
    "\n",
    "```python\n",
    "\n",
    "q1, q3 = df['value'].quantile([0.25,0.75])\n",
    "iqr = q3 - q1\n",
    "lo, hi = q1 - 1.5*iqr, q3 + 1.5*iqr\n",
    "outliers = df[(df['value'] < lo) | (df['value'] > hi)]\n",
    "\n",
    "```\n",
    "</details>\n"
   ]
  },
  {
   "cell_type": "markdown",
   "id": "a3470e6f",
   "metadata": {},
   "source": [
    "## Question 14 — Cap Extreme Values\n",
    "\n",
    "Clip `value` to stay within the IQR bounds you computed previously."
   ]
  },
  {
   "cell_type": "code",
   "execution_count": null,
   "id": "a0452441",
   "metadata": {},
   "outputs": [],
   "source": [
    "# --- Generate synthetic data for Question 14 ---\n",
    "rng = np.random.default_rng(54)\n",
    "\n",
    "df = pd.DataFrame({'value': rng.normal(0,1,size=100)})\n",
    "q1, q3 = df['value'].quantile([0.25,0.75])\n",
    "iqr = q3 - q1\n",
    "lo, hi = q1 - 1.5*iqr, q3 + 1.5*iqr\n",
    "\n",
    "df.head()"
   ]
  },
  {
   "cell_type": "markdown",
   "id": "55dfe264",
   "metadata": {},
   "source": [
    "<details>\n",
    "<summary><strong>Instructor solution (click to reveal)</strong></summary>\n",
    "\n",
    "```python\n",
    "\n",
    "df['value'] = df['value'].clip(lo, hi)\n",
    "\n",
    "```\n",
    "</details>\n"
   ]
  },
  {
   "cell_type": "markdown",
   "id": "0b6de7e2",
   "metadata": {},
   "source": [
    "#### What could you do to save your data to make sure you can go back to it if you didn't want to clip after all? "
   ]
  },
  {
   "cell_type": "markdown",
   "id": "1a411513",
   "metadata": {},
   "source": []
  },
  {
   "cell_type": "markdown",
   "id": "e08b4e12",
   "metadata": {},
   "source": [
    "## Question 15 — Bin Continuous Variable\n",
    "\n",
    "Create a new column `age_band` with 10-year bins (0–9, 10–19, …). I would use pd.cut, but there are multiple answers here. "
   ]
  },
  {
   "cell_type": "code",
   "execution_count": null,
   "id": "aa7a7f37",
   "metadata": {},
   "outputs": [],
   "source": [
    "# --- Generate synthetic data for Question 15 ---\n",
    "rng = np.random.default_rng(55)\n",
    "\n",
    "df = pd.DataFrame({'age': rng.integers(0, 90, size=25)})\n",
    "\n",
    "df.head()\n"
   ]
  },
  {
   "cell_type": "markdown",
   "id": "08f79b85",
   "metadata": {},
   "source": [
    "<details>\n",
    "<summary><strong>Instructor solution (click to reveal)</strong></summary>\n",
    "\n",
    "```python\n",
    "\n",
    "bins = list(range(0, 101, 10))\n",
    "labels = [f'{b}-{b+9}' for b in bins[:-1]]\n",
    "df['age_band'] = pd.cut(df['age'], bins=bins, labels=labels, right=False)\n",
    "\n",
    "```\n",
    "</details>\n"
   ]
  },
  {
   "cell_type": "markdown",
   "id": "e18a4a92",
   "metadata": {},
   "source": [
    "## Question 16 — Regex Extract\n",
    "\n",
    "Extract the 6-digit product code from `text` into a new column `prod_id`."
   ]
  },
  {
   "cell_type": "code",
   "execution_count": null,
   "id": "d31a1fb5",
   "metadata": {},
   "outputs": [],
   "source": [
    "# --- Generate synthetic data for Question 16 ---\n",
    "rng = np.random.default_rng(56)\n",
    "\n",
    "codes = [f'ID-{rng.integers(100000,999999)}-X' for _ in range(12)]\n",
    "phrases = [f'Order {c} received' for c in codes]\n",
    "df = pd.DataFrame({'text': phrases})\n",
    "\n",
    "df.head()\n",
    "\n"
   ]
  },
  {
   "cell_type": "markdown",
   "id": "0b7bf15c",
   "metadata": {},
   "source": [
    "<details>\n",
    "<summary><strong>Instructor solution (click to reveal)</strong></summary>\n",
    "\n",
    "```python\n",
    "\n",
    "df['prod_id'] = df['text'].str.extract(r'(\\d{6})')\n",
    "\n",
    "```\n",
    "</details>\n"
   ]
  },
  {
   "cell_type": "markdown",
   "id": "52aab726",
   "metadata": {},
   "source": [
    "## Question 17 — Clean Phone Numbers\n",
    "\n",
    "Standardise `phone` to the format `XXX-XXX-XXXX` (digits only)."
   ]
  },
  {
   "cell_type": "code",
   "execution_count": null,
   "id": "b436f113",
   "metadata": {},
   "outputs": [],
   "source": [
    "# --- Generate synthetic data for Question 17 ---\n",
    "rng = np.random.default_rng(57)\n",
    "\n",
    "raw = ['(617) 555-{:04d}'.format(n) for n in rng.integers(0,9999,size=10)]\n",
    "df = pd.DataFrame({'phone': raw})\n",
    "\n",
    "df.head()\n"
   ]
  },
  {
   "cell_type": "markdown",
   "id": "e39a4231",
   "metadata": {},
   "source": [
    "<details>\n",
    "<summary><strong>Instructor solution (click to reveal)</strong></summary>\n",
    "\n",
    "```python\n",
    "\n",
    "df['phone'] = (df['phone']\n",
    "                 .str.replace('[^0-9]', '', regex=True)\n",
    "                 .str.replace(r'(\\d{3})(\\d{3})(\\d{4})', r'\\1-\\2-\\3', regex=True))\n",
    "\n",
    "```\n",
    "</details>\n"
   ]
  },
  {
   "cell_type": "markdown",
   "id": "611c72b1",
   "metadata": {},
   "source": [
    "## Question 18 — Resample Time Series\n",
    "\n",
    "Compute **weekly** sum of `sales`. You can do this multiple ways, but there is an easy function built into pandas data frames. (i.e., look into \"resample)"
   ]
  },
  {
   "cell_type": "code",
   "execution_count": null,
   "id": "1b1eea94",
   "metadata": {},
   "outputs": [],
   "source": [
    "# --- Generate synthetic data for Question 18 ---\n",
    "rng = np.random.default_rng(58)\n",
    "\n",
    "idx = pd.date_range('2025-01-01', periods=90, freq='D')\n",
    "df = pd.DataFrame({'sales': rng.integers(10, 40, size=len(idx))}, index=idx)\n",
    "\n",
    "df.head()\n"
   ]
  },
  {
   "cell_type": "markdown",
   "id": "6cd8dc23",
   "metadata": {},
   "source": [
    "<details>\n",
    "<summary><strong>Instructor solution (click to reveal)</strong></summary>\n",
    "\n",
    "```python\n",
    "\n",
    "weekly = df['sales'].resample('W').sum()\n",
    "\n",
    "```\n",
    "</details>\n"
   ]
  },
  {
   "cell_type": "markdown",
   "id": "490ebcc4",
   "metadata": {},
   "source": [
    "## Question 19 — Rolling Mean\n",
    "\n",
    "Add a `7d_avg` column = 7-day rolling mean of `sales`. Use pandas for this as well. "
   ]
  },
  {
   "cell_type": "code",
   "execution_count": null,
   "id": "604c44dc",
   "metadata": {},
   "outputs": [],
   "source": [
    "# --- Generate synthetic data for Question 19 ---\n",
    "rng = np.random.default_rng(59)\n",
    "\n",
    "idx = pd.date_range('2025-02-01', periods=60, freq='D')\n",
    "df = pd.DataFrame({'sales': rng.integers(20, 60, size=len(idx))}, index=idx)\n",
    "\n",
    "df.head()"
   ]
  },
  {
   "cell_type": "markdown",
   "id": "1b21b06d",
   "metadata": {},
   "source": [
    "<details>\n",
    "<summary><strong>Instructor solution (click to reveal)</strong></summary>\n",
    "\n",
    "```python\n",
    "\n",
    "df['7d_avg'] = df['sales'].rolling(window=7, min_periods=1).mean()\n",
    "\n",
    "```\n",
    "</details>\n"
   ]
  },
  {
   "cell_type": "markdown",
   "id": "cb7f05ac",
   "metadata": {},
   "source": [
    "#### Can you solve this without pandas? Write your own function to calculate a rolling 7-day mean on sales"
   ]
  },
  {
   "cell_type": "code",
   "execution_count": null,
   "id": "83b8c7c0",
   "metadata": {},
   "outputs": [],
   "source": []
  },
  {
   "cell_type": "markdown",
   "id": "7ac81627",
   "metadata": {},
   "source": [
    "## Question 20 — Cross-Tabulation\n",
    "\n",
    "A **cross-tabulation** (or **contingency table**) displays the **counts** of observations for each combination of two categorical variables. It’s incredibly useful for spotting patterns at a glance.\n",
    "\n",
    "### What you start with (long form)\n",
    "\n",
    "Imagine your DataFrame `df` looks like this:\n",
    "\n",
    "| index | gender | purchased |\n",
    "|:-----:|:------:|:---------:|\n",
    "|   0   |   F    |     1     |\n",
    "|   1   |   M    |     0     |\n",
    "|   2   |   F    |     1     |\n",
    "|   3   |   M    |     1     |\n",
    "|   4   |   F    |     0     |\n",
    "|  ...  |  ...   |    ...    |\n",
    "\n",
    "Each row is one customer’s gender and whether they made a purchase.\n",
    "\n",
    "### What you end up with (wide form)\n",
    "\n",
    "After a cross-tab, you get a small table of counts:\n",
    "\n",
    "| gender \\ purchased |   0   |   1   |\n",
    "|:------------------:|:-----:|:-----:|\n",
    "|         F          | count of F&0 | count of F&1 |\n",
    "|         M          | count of M&0 | count of M&1 |\n",
    "\n",
    "For example, if F customers made 8 “no-purchase” (0) and 12 “yes-purchase” (1), you’d see:\n",
    "\n",
    "| gender \\ purchased |   0   |   1   |\n",
    "|:------------------:|:-----:|:-----:|\n",
    "|         F          |   8   |   12  |\n",
    "|         M          |   5   |   15  |\n",
    "\n",
    "---"
   ]
  },
  {
   "cell_type": "code",
   "execution_count": null,
   "id": "beebd312",
   "metadata": {},
   "outputs": [],
   "source": [
    "# --- Generate synthetic data for Question 20 ---\n",
    "rng = np.random.default_rng(60)\n",
    "\n",
    "df = pd.DataFrame({\n",
    "    'gender': rng.choice(['F','M'], size=50),\n",
    "    'purchased': rng.choice([0,1], size=50, p=[0.4,0.6])\n",
    "})\n",
    "\n",
    "df.head()\n"
   ]
  },
  {
   "cell_type": "markdown",
   "id": "6276edcf",
   "metadata": {},
   "source": [
    "<details>\n",
    "<summary><strong>Instructor solution (click to reveal)</strong></summary>\n",
    "\n",
    "```python\n",
    "\n",
    "ct = pd.crosstab(df['gender'], df['purchased'])\n",
    "\n",
    "```\n",
    "</details>\n"
   ]
  },
  {
   "cell_type": "markdown",
   "id": "63ad0594",
   "metadata": {},
   "source": [
    "## Question 21 — One-Hot Encode Categorical\n",
    "\n",
    "A **dummy variable** (or **one-hot encoding**) turns each category of a categorical column into its own 0/1 indicator column. This is useful for feeding categories into models that expect numeric inputs. You use this encoding everywhere in the sciences and machine learning. \n",
    "\n",
    "### What you start with\n",
    "\n",
    "| index | color  |\n",
    "|:-----:|:-------|\n",
    "|   0   | red    |\n",
    "|   1   | blue   |\n",
    "|   2   | green  |\n",
    "|   3   | red    |\n",
    "\n",
    "### What you end up with\n",
    "\n",
    "| index | color_blue | color_green | color_red |\n",
    "|:-----:|:----------:|:-----------:|:---------:|\n",
    "|   0   |     0      |      0      |     1     |\n",
    "|   1   |     1      |      0      |     0     |\n",
    "|   2   |     0      |      1      |     0     |\n",
    "|   3   |     0      |      0      |     1     |\n"
   ]
  },
  {
   "cell_type": "code",
   "execution_count": null,
   "id": "8d2f722c",
   "metadata": {},
   "outputs": [],
   "source": [
    "# --- Generate synthetic data for Question 21 ---\n",
    "rng = np.random.default_rng(61)\n",
    "\n",
    "df = pd.DataFrame({'color': rng.choice(['red','blue','green'], size=12)})\n",
    "\n",
    "df.head()"
   ]
  },
  {
   "cell_type": "markdown",
   "id": "d620a95e",
   "metadata": {},
   "source": [
    "<details>\n",
    "<summary><strong>Instructor solution (click to reveal)</strong></summary>\n",
    "\n",
    "```python\n",
    "\n",
    "dummies = pd.get_dummies(df['color'], prefix='color')\n",
    "df = pd.concat([df, dummies], axis=1)\n",
    "\n",
    "```\n",
    "</details>\n"
   ]
  },
  {
   "cell_type": "markdown",
   "id": "f5894c12",
   "metadata": {},
   "source": [
    "## Question 22 — Explode List Column\n",
    "\n",
    "When you have a column of lists, `pd.DataFrame.explode()` converts each element of the list into its own row, duplicating the rest of the row’s data.  \n",
    "\n",
    "### What you start with (wide format)\n",
    "\n",
    "| index | post_id | tags           |\n",
    "|:-----:|:-------:|----------------|\n",
    "|   0   |    1    | [ml, ai]       |\n",
    "|   1   |    2    | [cv]           |\n",
    "|   2   |    3    | [nlp, ai, cv]  |\n",
    "\n",
    "### What you end up with (long format)\n",
    "\n",
    "| index | post_id | tags |\n",
    "|:-----:|:-------:|:----:|\n",
    "|   0   |    1    | ml   |\n",
    "|   1   |    1    | ai   |\n",
    "|   2   |    2    | cv   |\n",
    "|   3   |    3    | nlp  |\n",
    "|   4   |    3    | ai   |\n",
    "|   5   |    3    | cv   |"
   ]
  },
  {
   "cell_type": "code",
   "execution_count": null,
   "id": "307b9f79",
   "metadata": {},
   "outputs": [],
   "source": [
    "# --- Generate synthetic data for Question 23 ---\n",
    "rng = np.random.default_rng(63)\n",
    "\n",
    "choices = ['ml','ai','cv','nlp']\n",
    "df = pd.DataFrame({\n",
    "    'post_id': range(1,6),\n",
    "    'tags': [rng.choice(choices, size=rng.integers(1,4), replace=False).tolist()\n",
    "             for _ in range(5)]\n",
    "})\n",
    "\n",
    "df.head()\n",
    "\n"
   ]
  },
  {
   "cell_type": "markdown",
   "id": "80b77d45",
   "metadata": {},
   "source": [
    "<details>\n",
    "<summary><strong>Instructor solution (click to reveal)</strong></summary>\n",
    "\n",
    "```python\n",
    "\n",
    "exploded = df.explode('tags')\n",
    "\n",
    "```\n",
    "</details>\n"
   ]
  },
  {
   "cell_type": "markdown",
   "id": "c3d1e409",
   "metadata": {},
   "source": [
    "## Question 23 — Wide ↔ Long Round-Trip\n",
    "\n",
    "When you have several columns that all represent the same kind of measurement (here, daily temperatures), you can **melt** the table into a “long” tidy format, then **pivot** it back to the original “wide” shape once you’re done processing.\n",
    "\n",
    "### What you start with (wide format)\n",
    "\n",
    "| city | Mon | Tue | Wed |\n",
    "|:----:|:---:|:---:|:---:|\n",
    "|  NY  |  10 |   5 |   8 |\n",
    "|  LA  |  15 |  12 |  14 |\n",
    "\n",
    "### What you get after melting (long format)\n",
    "\n",
    "| city | day | temp |\n",
    "|:----:|:---:|:----:|\n",
    "|  NY  | Mon |  10  |\n",
    "|  NY  | Tue |   5  |\n",
    "|  NY  | Wed |   8  |\n",
    "|  LA  | Mon |  15  |\n",
    "|  LA  | Tue |  12  |\n",
    "|  LA  | Wed |  14  |\n",
    "\n",
    "### What you end up with after pivoting back (wide format)\n",
    "\n",
    "| city | Mon | Tue | Wed |\n",
    "|:----:|:---:|:---:|:---:|\n",
    "|  NY  |  10 |   5 |   8 |\n",
    "|  LA  |  15 |  12 |  14 |\n",
    "\n"
   ]
  },
  {
   "cell_type": "markdown",
   "id": "6b666295",
   "metadata": {},
   "source": [
    "#### What is \"tidy\" format (please research this if you are unsure and explain)"
   ]
  },
  {
   "cell_type": "code",
   "execution_count": null,
   "id": "8290c8c7",
   "metadata": {},
   "outputs": [],
   "source": [
    "# --- Generate synthetic data for Question 24 ---\n",
    "rng = np.random.default_rng(64)\n",
    "\n",
    "df = pd.DataFrame({\n",
    "    'city': ['NY','LA'],\n",
    "    'Mon': rng.integers(-5,30,size=2),\n",
    "    'Tue': rng.integers(-5,30,size=2),\n",
    "    'Wed': rng.integers(-5,30,size=2)\n",
    "})\n",
    "\n",
    "df.head()"
   ]
  },
  {
   "cell_type": "markdown",
   "id": "96f4647f",
   "metadata": {},
   "source": [
    "<details>\n",
    "<summary><strong>Instructor solution (click to reveal)</strong></summary>\n",
    "\n",
    "```python\n",
    "\n",
    "long = df.melt(id_vars='city', var_name='day', value_name='temp')\n",
    "wide = long.pivot(index='city', columns='day', values='temp').reset_index()\n",
    "\n",
    "```\n",
    "</details>\n"
   ]
  },
  {
   "cell_type": "markdown",
   "id": "4d22bf2b",
   "metadata": {},
   "source": [
    "## Question 24 — Package Steps into a Function\n",
    "\n",
    "Write `clean(df)` that **drops duplicates** and converts `date_str` to datetime."
   ]
  },
  {
   "cell_type": "code",
   "execution_count": null,
   "id": "76a60637",
   "metadata": {},
   "outputs": [],
   "source": [
    "# --- Generate synthetic data for Question 25 ---\n",
    "rng = np.random.default_rng(65)\n",
    "\n",
    "df = pd.DataFrame({\n",
    "    'id': [1,1,2,3,3],\n",
    "    'date_str': pd.date_range('2024-05-01', periods=5).astype(str)\n",
    "})\n",
    "\n",
    "df.head()"
   ]
  },
  {
   "cell_type": "markdown",
   "id": "e02a1f99",
   "metadata": {},
   "source": [
    "<details>\n",
    "<summary><strong>Instructor solution (click to reveal)</strong></summary>\n",
    "\n",
    "```python\n",
    "\n",
    "def clean(d):\n",
    "    d = d.drop_duplicates(subset=['id']).copy()\n",
    "    d['date'] = pd.to_datetime(d['date_str'])\n",
    "    return d\n",
    "\n",
    "clean_df = clean(df)\n",
    "\n",
    "```\n",
    "</details>\n"
   ]
  },
  {
   "cell_type": "markdown",
   "id": "4daa25df",
   "metadata": {},
   "source": [
    "## Question 25 — Tidy a Real-World CSV (Medium-Hard)\n",
    "\n",
    "**Dataset:** Monthly passenger counts for transatlantic air travel, 1958–1960  \n",
    "\n",
    "**Your tasks:**\n",
    "1. **Load** the CSV directly from the URL into a DataFrame `df_raw` using `pd.read_csv()`.  \n",
    "2. Notice it’s in **wide** form, with columns: `Month`, `\"1958\"`, `\"1959\"`, `\"1960\"`.  \n",
    "3. **Melt** it into **long** form with columns:\n",
    "   - `month` (e.g. `\"JAN\"`)\n",
    "   - `year` (e.g. `1958`)\n",
    "   - `passengers` (e.g. `340`)\n",
    "4. **Convert** `year` to integer, and optionally parse `month` into a proper datetime (e.g. first day of each month).\n",
    "\n",
    "\n"
   ]
  },
  {
   "cell_type": "code",
   "execution_count": 87,
   "id": "c3260060",
   "metadata": {},
   "outputs": [],
   "source": [
    "# --- Load and peek at the raw data ---\n",
    "import pandas as pd\n",
    "\n",
    "url = \"https://people.sc.fsu.edu/~jburkardt/data/csv/airtravel.csv\"\n"
   ]
  },
  {
   "cell_type": "markdown",
   "id": "a9940907",
   "metadata": {},
   "source": [
    "<details>\n",
    "<summary><strong>Instructor solution (click to reveal)</strong></summary>\n",
    "\n",
    "```python\n",
    "\n",
    "# 1) See exactly what your columns are\n",
    "print(df_raw.columns.tolist())\n",
    "# e.g. ['Month', '\"1958\"', '\"1959\"', '\"1960\"']\n",
    "\n",
    "# 2) Strip out the extra quotes from the header names\n",
    "df_raw.columns = (\n",
    "    df_raw.columns\n",
    "          .str.replace('\"', '', regex=False)  # remove literal quote characters\n",
    "          .str.strip()                        # trim any whitespace\n",
    ")\n",
    "\n",
    "df_long = df_raw.melt(\n",
    "    id_vars=['Month'],\n",
    "    value_vars=['1958','1959','1960'],\n",
    "    var_name='year',\n",
    "    value_name='passengers'\n",
    ")\n",
    "\n",
    "# 4) Clean up\n",
    "df_long['year'] = df_long['year'].astype(int)\n",
    "df_long.rename(columns={'Month':'month'}, inplace=True)\n",
    "\n",
    "df_long.head()\n",
    "\n",
    "```\n",
    "</details>\n"
   ]
  },
  {
   "cell_type": "markdown",
   "id": "96071b95",
   "metadata": {},
   "source": [
    "## Question 26 — Chipotle Orders\n",
    "\n",
    "**Dataset:** Chipotle orders  \n",
    "\n",
    "Your tasks:  \n",
    "1. Load the TSV from the URL into `df_raw` using `pd.read_csv(..., sep='\\t')`.  \n",
    "2. Clean `item_price` by removing the leading `$` and converting it to `float`.  \n",
    "3. Replace missing values in `choice_description` with `\"No extras\"`.  \n",
    "4. Strip the surrounding `[]`, remove any single‐quotes, and split the `choice_description` string into a Python `list`.  \n",
    "5. Use `explode()` to expand each extra into its own row and assign the result to `df_tidy`.  \n",
    "\n"
   ]
  },
  {
   "cell_type": "code",
   "execution_count": 90,
   "id": "f188efa0",
   "metadata": {},
   "outputs": [],
   "source": [
    "import pandas as pd\n",
    "\n",
    "url = \"https://raw.githubusercontent.com/justmarkham/DAT8/master/data/chipotle.tsv\"\n"
   ]
  },
  {
   "cell_type": "markdown",
   "id": "bcd2f8ad",
   "metadata": {},
   "source": [
    "<details>\n",
    "<summary><strong>Instructor solution (click to reveal)</strong></summary>\n",
    "\n",
    "```python\n",
    "\n",
    "# 1) Clean item_price\n",
    "df_raw['item_price'] = (\n",
    "    df_raw['item_price']\n",
    "      .str.replace('$', '', regex=False)\n",
    "      .astype(float)\n",
    ")\n",
    "\n",
    "# 2) Fill missing choice_description\n",
    "df_raw['choice_description'] = df_raw['choice_description'] \\\n",
    "                                   .fillna('No extras')\n",
    "\n",
    "# 3) Remove brackets & split\n",
    "df_raw['choice_description'] = (\n",
    "    df_raw['choice_description']\n",
    "      .str.strip('[]')\n",
    "      .str.replace(\"'\", '', regex=False)\n",
    "      .str.split(', ')\n",
    ")\n",
    "\n",
    "# 4) Explode into tidy format\n",
    "df_tidy = df_raw.explode('choice_description').reset_index(drop=True)\n",
    "\n",
    "df_tidy.head()\n",
    "\n",
    "```\n",
    "</details>\n"
   ]
  },
  {
   "cell_type": "markdown",
   "id": "f575a411",
   "metadata": {},
   "source": [
    "## Question 27 — Fetch & Tidy Stock Market Data (Hard)\n",
    "\n",
    "Download daily **Open**, **High**, **Low**, **Close**, and **Volume** data for tickers **AAPL**, **MSFT**, and **GOOGL** between **2025-01-01** and **2025-06-30**. The DataFrame `df_raw` you get from `yfinance` has a **MultiIndex** on its columns (first level: metric, second level: ticker). Your job is to reshape it into a tidy “long” table with one row per date–ticker combination and separate columns for each metric. The column orders don't necessarily match the schematic below exactly depending on how you do it. \n",
    "\n",
    "**Before (wide form with MultiIndex columns)**\n",
    "\n",
    "| Date       | Open (AAPL) | Open (MSFT) | Open (GOOGL) | High (AAPL) | … | Volume (GOOGL) |\n",
    "|------------|-------------|-------------|--------------|-------------|---|----------------|\n",
    "| 2025-01-02 | 248.33      | 423.90      | 190.20       | 248.50      | … | 20,370,800     |\n",
    "| 2025-01-03 | 242.77      | 430.12      | 190.92       | 243.59      | … | 17,452,000     |\n",
    "| …          | …           | …           | …            | …           | … | …              |\n",
    "\n",
    "**After (long/tidy form)**\n",
    "\n",
    "| date       | ticker | Open   | High   | Low    | Close  | Adj Close | Volume   |\n",
    "|------------|--------|--------|--------|--------|--------|-----------|----------|\n",
    "| 2025-01-02 | AAPL   | 248.33 | 248.50 | 241.24 | 243.26 | 243.26    | 55,740,700 |\n",
    "| 2025-01-02 | MSFT   | 423.90 | 424.44 | 413.26 | 416.98 | 416.98    | 16,896,500 |\n",
    "| 2025-01-02 | GOOGL  | 190.20 | 191.55 | 187.06 | 188.98 | 188.98    | 20,370,800 |\n",
    "| 2025-01-03 | AAPL   | 242.77 | 243.59 | 241.31 | 242.77 | 242.77    | 40,244,100 |\n",
    "| …          | …      | …      | …      | …      | …      | …         | …         |\n",
    "\n"
   ]
  },
  {
   "cell_type": "code",
   "execution_count": 94,
   "id": "c6ffbb9e",
   "metadata": {},
   "outputs": [],
   "source": [
    "# Hint, you'll need the following:\n",
    "\n",
    "!pip install yfinance --upgrade --quiet\n",
    "\n",
    "import yfinance as yf\n",
    "import pandas as pd"
   ]
  },
  {
   "cell_type": "markdown",
   "id": "d32c47c4",
   "metadata": {},
   "source": [
    "<details>\n",
    "<summary><strong>Instructor solution (click to reveal)</strong></summary>\n",
    "\n",
    "```python\n",
    "\n",
    "tickers = [\"AAPL\", \"MSFT\", \"GOOGL\"]\n",
    "df_raw = yf.download(tickers, start=\"2025-01-01\", end=\"2025-06-30\")\n",
    "df_raw.head()\n",
    "\n",
    "# 1) Stack the ticker level into the row index\n",
    "df_tidy = (\n",
    "    df_raw\n",
    "      .stack(level=1)               # move the second-level (ticker) index into rows\n",
    "      .reset_index()                # turn Date & ticker index into columns\n",
    "      .rename(columns={'level_1': 'ticker'})\n",
    ")\n",
    "\n",
    "# 2) (Optional) rename 'Date' to lowercase\n",
    "df_tidy.rename(columns={'Date': 'date'}, inplace=True)\n",
    "\n",
    "# Now `df_tidy` has columns:  \n",
    "# ['date', 'ticker', 'Open', 'High', 'Low', 'Close', 'Adj Close', 'Volume']\n",
    "df_tidy.head()\n",
    "\n",
    "\n",
    "```\n",
    "</details>\n"
   ]
  }
 ],
 "metadata": {
  "kernelspec": {
   "display_name": "dash_lab",
   "language": "python",
   "name": "python3"
  },
  "language_info": {
   "codemirror_mode": {
    "name": "ipython",
    "version": 3
   },
   "file_extension": ".py",
   "mimetype": "text/x-python",
   "name": "python",
   "nbconvert_exporter": "python",
   "pygments_lexer": "ipython3",
   "version": "3.13.5"
  }
 },
 "nbformat": 4,
 "nbformat_minor": 5
}
